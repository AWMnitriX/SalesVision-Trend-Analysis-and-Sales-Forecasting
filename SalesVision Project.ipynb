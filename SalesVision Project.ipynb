{
 "cells": [
  {
   "cell_type": "markdown",
   "id": "3351b944",
   "metadata": {},
   "source": [
    "Importing necessary libraries"
   ]
  },
  {
   "cell_type": "code",
   "execution_count": null,
   "id": "b3b41552-32f4-4247-9879-fc40cfdcd2c0",
   "metadata": {},
   "outputs": [],
   "source": [
    "import pandas as pd\n",
    "import numpy as np\n",
    "import matplotlib.pyplot as plt\n",
    "import seaborn as sns\n",
    "from sklearn.model_selection import train_test_split\n",
    "from sklearn.metrics import mean_absolute_error,r2_score\n",
    "from sklearn.ensemble import RandomForestRegressor"
   ]
  },
  {
   "cell_type": "markdown",
   "id": "3645caf3",
   "metadata": {},
   "source": [
    "loading the dataset using pandas and extracting some rows to understand structure of dataset"
   ]
  },
  {
   "cell_type": "code",
   "execution_count": null,
   "id": "69887aa9-aa15-4841-bc26-18c763188dad",
   "metadata": {},
   "outputs": [],
   "source": [
    "data= pd.read_csv('train.csv')#This is the historical training data of weekly sales from Walmart, which covers to 2010-02-05 to 2012-11-01\n",
    "print(\"shape:\",data.shape)\n",
    "print(data.head())"
   ]
  },
  {
   "cell_type": "markdown",
   "id": "75183f21",
   "metadata": {},
   "source": [
    "in this step, we convert the 'Date' column into a datetime format for easier handling and checking for missing values and inspect some general statistics to understand the distribution the data"
   ]
  },
  {
   "cell_type": "code",
   "execution_count": null,
   "id": "baf18244-580a-41f0-addf-c084e6e88658",
   "metadata": {},
   "outputs": [],
   "source": [
    "data['Date']= pd.to_datetime(data['Date'])\n",
    "\n",
    "print(data.isnull().sum())\n",
    "\n",
    "print(data.describe())"
   ]
  },
  {
   "cell_type": "markdown",
   "id": "ba0a6584",
   "metadata": {},
   "source": [
    "in this plot, we are visualizing total weekly sales over time to identify peaks and dips, which can provide insights into the events that affects sales"
   ]
  },
  {
   "cell_type": "code",
   "execution_count": null,
   "id": "218f489b-a0ed-46d7-929c-7100a9b62880",
   "metadata": {},
   "outputs": [],
   "source": [
    "sales_over_time= data.groupby('Date')['Weekly_Sales'].sum().reset_index()# aggregate sales over time by grouping them by date\n",
    "#and summing for each week\n",
    "\n",
    "plt.figure(figsize=(14, 6))\n",
    "sns.lineplot(data=sales_over_time,x='Date', y='Weekly_Sales')\n",
    "plt.title('Total Weekly Sales Over Time')\n",
    "plt.xlabel('Date')\n",
    "plt.ylabel('Weekly Sales')\n",
    "plt.grid(True)\n",
    "plt.tight_layout()\n",
    "plt.show()\n"
   ]
  },
  {
   "cell_type": "markdown",
   "id": "1db314b1",
   "metadata": {},
   "source": [
    "this plot shows the comparison between average weekly sales of 'Holiday' week and 'Non-Holiday' week"
   ]
  },
  {
   "cell_type": "code",
   "execution_count": null,
   "id": "5ff245f4-5bde-457f-96a4-b52024710bb1",
   "metadata": {},
   "outputs": [],
   "source": [
    "holiday_sales= data.groupby('IsHoliday')['Weekly_Sales'].mean().reset_index()#we've grouped the sales by whether week has holiday\n",
    "#or not\n",
    "\n",
    "plt.figure(figsize=(6, 5))\n",
    "sns.barplot(data=holiday_sales,x='IsHoliday',y='Weekly_Sales')\n",
    "plt.title('Average Weekly Sales: Holiday vs. Non-Holiday')\n",
    "plt.xlabel('Is Holiday')\n",
    "plt.ylabel('Average Weekly Sales')\n",
    "plt.show()\n"
   ]
  },
  {
   "cell_type": "markdown",
   "id": "650555dc",
   "metadata": {},
   "source": [
    "in this block we are showing top 10 stores from the data having highest total sales"
   ]
  },
  {
   "cell_type": "code",
   "execution_count": null,
   "id": "5052bd96-3693-404d-912b-f13f11695090",
   "metadata": {},
   "outputs": [],
   "source": [
    "store_sales=data.groupby('Store')['Weekly_Sales'].sum().reset_index().sort_values(by='Weekly_Sales',ascending=False)\n",
    "\n",
    "plt.figure(figsize=(10,6))\n",
    "sns.barplot(data=store_sales.head(10),x='Store',y='Weekly_Sales',order=store_sales.head(10)['Store'])\n",
    "#order=store_sales.head(10)['Store'] this will arrange the bar plots in same order as the 'Store' i.e., descending order\n",
    "plt.title('Top 10 Stores by Total Sales')\n",
    "plt.xlabel('Store')\n",
    "plt.ylabel('Total Sales')\n",
    "plt.show()\n"
   ]
  },
  {
   "cell_type": "markdown",
   "id": "357698e7",
   "metadata": {},
   "source": [
    "this step is very important as date itself is a string and not a numerical value so it can't be feature for training the model so we have to break them down into features like day month and year and explicitly add them to the dataset as a feature to maintain the significance of date"
   ]
  },
  {
   "cell_type": "code",
   "execution_count": null,
   "id": "7b3bb8e5-4091-474e-a411-da540fb1bf13",
   "metadata": {},
   "outputs": [],
   "source": [
    "data['Year']=data['Date'].dt.year\n",
    "data['Month']=data['Date'].dt.month\n",
    "data['WeekOfYear']=data['Date'].dt.isocalendar().week\n",
    "data['DayOfWeek']=data['Date'].dt.weekday\n",
    "print(data.head())"
   ]
  },
  {
   "cell_type": "markdown",
   "id": "443bc6d9",
   "metadata": {},
   "source": [
    "defining the features and target coulumns required for model training"
   ]
  },
  {
   "cell_type": "code",
   "execution_count": null,
   "id": "19aee828-678f-417d-9c20-d7a949b489dc",
   "metadata": {},
   "outputs": [],
   "source": [
    "x=data[['Store','Dept','IsHoliday','Year','Month','WeekOfYear','DayOfWeek']]#feature column\n",
    "y=data['Weekly_Sales']#target column"
   ]
  },
  {
   "cell_type": "markdown",
   "id": "708d4534",
   "metadata": {},
   "source": [
    "dividing the Data for the model training and testing purpose"
   ]
  },
  {
   "cell_type": "code",
   "execution_count": null,
   "id": "c4d5a670-6528-4773-9ba9-585818f467ef",
   "metadata": {},
   "outputs": [],
   "source": [
    "x_train,x_test,y_train,y_test= train_test_split(x, y, test_size=0.2, random_state=42)#traning on 80% and testing on rest 20%\n",
    "#random_state=42 maintain the same order of shuffling to keep ensure model train on same data to prevent randomness in model\n",
    "\n",
    "print(x_train.shape, x_test.shape)\n"
   ]
  },
  {
   "cell_type": "markdown",
   "id": "1466d39a",
   "metadata": {},
   "source": [
    "creating a model using 'Random Forest Regressor Algorithm' and fitting it on the training data to learn patterns and make predictions on weekly sale"
   ]
  },
  {
   "cell_type": "code",
   "execution_count": null,
   "id": "e5aa0f4a-6bad-4238-80ce-8a9321beb9cd",
   "metadata": {
    "scrolled": true
   },
   "outputs": [],
   "source": [
    "rf_model = RandomForestRegressor(n_estimators=100,random_state=42, n_jobs=-1)\n",
    "\n",
    "rf_model.fit(x_train, y_train)\n"
   ]
  },
  {
   "cell_type": "markdown",
   "id": "b158fbd6",
   "metadata": {},
   "source": [
    "now testing the models prediction on the test dataset"
   ]
  },
  {
   "cell_type": "code",
   "execution_count": null,
   "id": "a217c0e3-37b0-4b72-95da-989f55095bd0",
   "metadata": {},
   "outputs": [],
   "source": [
    "y_pred = rf_model.predict(x_test)"
   ]
  },
  {
   "cell_type": "markdown",
   "id": "9d03d92c",
   "metadata": {},
   "source": [
    "checking for the errors made by model over predicted and actual values"
   ]
  },
  {
   "cell_type": "code",
   "execution_count": null,
   "id": "6438e9d8-e566-4440-9087-7646d829f337",
   "metadata": {},
   "outputs": [],
   "source": [
    "mae=mean_absolute_error(y_test, y_pred)\n",
    "r2=r2_score(y_test, y_pred)\n",
    "\n",
    "print(f\"Mean Absolute Error (MAE): {mae:.2f}\")\n",
    "print(f\"R² Score: {r2:.4f}\")\n"
   ]
  },
  {
   "cell_type": "markdown",
   "id": "c74c9007",
   "metadata": {},
   "source": [
    "plotting a scatter plot of actual vs. predicted weekly sales with a perfect fit line to visually assess the accuracy of the model\n",
    "the closer point lie to line the more accurate its prediction is"
   ]
  },
  {
   "cell_type": "code",
   "execution_count": null,
   "id": "91941503-1d20-487b-9090-d6edfb9db8ad",
   "metadata": {},
   "outputs": [],
   "source": [
    "plt.figure(figsize=(8, 6))\n",
    "plt.scatter(y_test,y_pred,alpha=0.3,label='Predicted vs Actual')\n",
    "\n",
    "#perfect-fit line\n",
    "min_val=min(y_test.min(),y_pred.min())\n",
    "max_val=max(y_test.max(),y_pred.max())\n",
    "plt.plot([min_val, max_val],[min_val, max_val], color='green', linestyle='-', label='Perfect Fit (y=x)')\n",
    "plt.xlabel('Actual Weekly Sales')\n",
    "plt.ylabel('Predicted Weekly Sales')\n",
    "plt.title('Actual vs Predicted Sales')\n",
    "plt.legend()\n",
    "plt.grid(alpha=0.3)\n",
    "plt.show()\n",
    "\n",
    "\n"
   ]
  },
  {
   "cell_type": "markdown",
   "id": "5a53d31f-4cbb-45bb-a61e-33fe3d99bbcd",
   "metadata": {},
   "source": [
    "this plot shows how efficiently the model tracks the actual sales over a sample of first 50 data points highlighting\n",
    "how closely the predictions follow the true values"
   ]
  },
  {
   "cell_type": "code",
   "execution_count": null,
   "id": "b802b24a-3685-4291-bf5c-bbf79a634936",
   "metadata": {},
   "outputs": [],
   "source": [
    "comparison_df= pd.DataFrame({'Actual': y_test,'Predicted': y_pred}).reset_index(drop=True)\n",
    "\n",
    "plt.figure(figsize=(14, 6))\n",
    "plt.plot(comparison_df['Actual'][:50],label='Actual Weekly Sales',marker='o')\n",
    "plt.plot(comparison_df['Predicted'][:50],label='Predicted Weekly Sales',marker='x')\n",
    "plt.title('Actual vs Predicted Weekly Sales (First 50)')\n",
    "plt.xlabel('Sample Index')\n",
    "plt.ylabel('Weekly Sales')\n",
    "plt.legend()\n",
    "plt.grid(True)\n",
    "plt.tight_layout()\n",
    "plt.show()\n"
   ]
  },
  {
   "cell_type": "markdown",
   "id": "d585ba41",
   "metadata": {},
   "source": [
    "creeating a user input interface to collect inputs required for the prediction of the weekly sales starting from a specific date"
   ]
  },
  {
   "cell_type": "code",
   "execution_count": null,
   "id": "9021ba55-6087-4909-9d36-15b7eb79f4aa",
   "metadata": {},
   "outputs": [],
   "source": [
    "store = int(input(\"Enter the store number: \"))\n",
    "dept = int(input(\"Enter the department number: \"))\n",
    "holiday_input = input(\"Is it holiday (True/False)? \").strip().lower()\n",
    "\n",
    "if holiday_input == 'true':#holiday values are needed to be converted in boolean\n",
    "    holiday = True\n",
    "else:\n",
    "    holiday = False\n",
    "\n",
    "date_str = input(\"Enter the date (YYYY-MM-DD): \").strip()\n",
    "date_obj = pd.to_datetime(date_str)\n",
    "\n",
    "year=date_obj.year\n",
    "month= date_obj.month\n",
    "week_of_year=date_obj.isocalendar().week\n",
    "day_of_week=date_obj.weekday()#extracting information from the specified date\n",
    "\n",
    "new_input=pd.DataFrame({\n",
    "    'Store': [store], \n",
    "    'Dept': [dept], \n",
    "    'IsHoliday': [holiday], \n",
    "    'Year': [year],\n",
    "    'Month': [month],\n",
    "    'WeekOfYear': [week_of_year],\n",
    "    'DayOfWeek': [day_of_week]#creating a dataset based on input, to be passed to model\n",
    "})\n",
    "\n",
    "print(new_input)\n"
   ]
  },
  {
   "cell_type": "markdown",
   "id": "3108f7fd",
   "metadata": {},
   "source": [
    "passing the user input in form of model ready dataframe to predict the weekly sales of that week"
   ]
  },
  {
   "cell_type": "code",
   "execution_count": null,
   "id": "4caa4291-2e15-4c56-b9dd-0f41d46b9edb",
   "metadata": {},
   "outputs": [],
   "source": [
    "predicted_sales = rf_model.predict(new_input)\n",
    "print(f\"Predicted Weekly Sales: {predicted_sales[0]:.2f}\")\n"
   ]
  },
  {
   "cell_type": "code",
   "execution_count": null,
   "id": "ea642dcf-1dbd-47ef-bbb5-b5c06bb46ee1",
   "metadata": {},
   "outputs": [],
   "source": []
  }
 ],
 "metadata": {
  "kernelspec": {
   "display_name": "Python 3 (ipykernel)",
   "language": "python",
   "name": "python3"
  },
  "language_info": {
   "codemirror_mode": {
    "name": "ipython",
    "version": 3
   },
   "file_extension": ".py",
   "mimetype": "text/x-python",
   "name": "python",
   "nbconvert_exporter": "python",
   "pygments_lexer": "ipython3",
   "version": "3.13.5"
  }
 },
 "nbformat": 4,
 "nbformat_minor": 5
}
